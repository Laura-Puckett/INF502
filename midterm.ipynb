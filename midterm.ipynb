{
 "cells": [
  {
   "cell_type": "markdown",
   "metadata": {},
   "source": [
    "# INF 502 Midterm\n",
    "Laura Puckett"
   ]
  },
  {
   "cell_type": "markdown",
   "metadata": {},
   "source": [
    "## Part 1\n",
    "objective: map file structure of ant_bait.csv to class ant_bait \n",
    "This code uses contructors to define the attributes of each class"
   ]
  },
  {
   "cell_type": "code",
   "execution_count": 90,
   "metadata": {},
   "outputs": [],
   "source": [
    "\n",
    "class ant_bait:\n",
    "    def __init__(self, month, year, plot, stake, species, abundance):\n",
    "        self.month = month\n",
    "        self.year = year\n",
    "        self.plot = plot\n",
    "        self.stake = stake\n",
    "        self.species = species\n",
    "        self.abundance = abundance\n",
    "        \n",
    "    def print_info(self):\n",
    "        print(self.species + \" - \" + self.month + \", \" + self.year + \": \" + self.abundance)\n",
    "        \n",
    "## map file structure of ant_species.csv to class ant_species      \n",
    "class ant_species: \n",
    "    def __init__(self, speciescode, genus, altgenus, species, altspecies, tribe, subfamily, IDissues):\n",
    "        self.speciescode = speciescode\n",
    "        self.genus = genus\n",
    "        self.altgenus = altgenus\n",
    "        self.species = species\n",
    "        self.altspecies = altspecies\n",
    "        self.tribe = tribe\n",
    "        self.subfamily = subfamily\n",
    "        self.IDissues = IDissues\n",
    "        \n",
    "    def print_info(self):\n",
    "        print(self.genus + \" \" + self.species)\n"
   ]
  },
  {
   "cell_type": "markdown",
   "metadata": {},
   "source": [
    "## Part 2\n",
    "objective: create a function that will recieve the filename as input and create a list, with an object for each row of the file \n",
    "\n",
    "This code opens the csv file (given as input), skips the first line, then creates an ant_bait or ant_species object for the information in each line.\n",
    "\n",
    "Example output for the first element in each list are printed."
   ]
  },
  {
   "cell_type": "code",
   "execution_count": 91,
   "metadata": {},
   "outputs": [
    {
     "name": "stdout",
     "output_type": "stream",
     "text": [
      "<__main__.ant_bait object at 0x10b07f898>\n",
      "<__main__.ant_species object at 0x10afd9710>\n",
      "cono bico - July, 2009: 2\n",
      "Camponotus festinatus\n"
     ]
    }
   ],
   "source": [
    "import csv\n",
    "\n",
    "def makeObjectList(filename):\n",
    "    objectList = []\n",
    "    with open(filename,'r') as file:\n",
    "        csv_reader = csv.reader(file) \n",
    "        next(csv_reader)\n",
    "        \n",
    "        if(filename == 'ant_bait.csv'):\n",
    "            for row in csv_reader:\n",
    "                baitObject = ant_bait(row[0], row[1], row[2], row[3], row[4], row[5])\n",
    "                objectList.append(baitObject)\n",
    "                \n",
    "        elif(filename == 'ant_species.csv'):\n",
    "            for row in csv_reader:\n",
    "                speciesObject = ant_species(row[0], row[1], row[2], row[3], row[4], row[5], row[6], row[7])\n",
    "                objectList.append(speciesObject)\n",
    "    return objectList\n",
    "        \n",
    "baitList = makeObjectList('ant_bait.csv')\n",
    "speciesList = makeObjectList('ant_species.csv')\n",
    "            \n",
    "print(baitList[0])\n",
    "print(speciesList[0])\n",
    "baitList[0].print_info()\n",
    "speciesList[0].print_info()"
   ]
  },
  {
   "cell_type": "markdown",
   "metadata": {},
   "source": [
    "## Part 3\n",
    "objective: replace the attribute species of ant_bait to an object of class ant_species\n",
    "\n",
    "This code creates a dictionary with species code as the key and the corresponding species object as the value, then uses this dictionary to assign the ant_species object as an attribute of ant_bait.\n",
    "\n",
    "The print_info method was updated to continue to print speciescode out of the species object (so it prints the same information as before).\n",
    "\n",
    "Examples of the information for the first element of the new baitList are printed."
   ]
  },
  {
   "cell_type": "code",
   "execution_count": 97,
   "metadata": {},
   "outputs": [
    {
     "name": "stdout",
     "output_type": "stream",
     "text": [
      "<__main__.ant_bait object at 0x10b13bcc0>\n",
      "<__main__.ant_species object at 0x10b0f2240>\n",
      "cono bico - July, 2009: 2\n"
     ]
    }
   ],
   "source": [
    "speciesList = makeObjectList('ant_species.csv')\n",
    "\n",
    "speciesDict = {} \n",
    "for row in speciesList:\n",
    "    speciesDict[row.speciescode] = row\n",
    "\n",
    "class ant_bait:\n",
    "    def __init__(self, month, year, plot, stake, species, abundance):\n",
    "        self.month = month\n",
    "        self.year = year\n",
    "        self.plot = plot\n",
    "        self.stake = stake\n",
    "        self.species = speciesDict[species]\n",
    "        self.abundance = abundance\n",
    "        \n",
    "    def print_info(self):\n",
    "        print(self.species.speciescode + \" - \" + self.month + \", \" + self.year + \": \" + self.abundance)\n",
    "\n",
    "baitList = makeObjectList('ant_bait.csv')\n",
    "# first element in list of ant_bait objects\n",
    "print(baitList[0]) \n",
    "# the species object stores in the first element of the object printed above\n",
    "print(baitList[0].species)\n",
    "# the information associated with the first element in the list\n",
    "baitList[0].print_info()\n"
   ]
  },
  {
   "cell_type": "code",
   "execution_count": null,
   "metadata": {},
   "outputs": [],
   "source": []
  }
 ],
 "metadata": {
  "kernelspec": {
   "display_name": "Python 3",
   "language": "python",
   "name": "python3"
  },
  "language_info": {
   "codemirror_mode": {
    "name": "ipython",
    "version": 3
   },
   "file_extension": ".py",
   "mimetype": "text/x-python",
   "name": "python",
   "nbconvert_exporter": "python",
   "pygments_lexer": "ipython3",
   "version": "3.7.3"
  }
 },
 "nbformat": 4,
 "nbformat_minor": 2
}
