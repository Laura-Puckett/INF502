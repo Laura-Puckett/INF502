{
 "cells": [
  {
   "cell_type": "markdown",
   "metadata": {},
   "source": [
    "# Wallet Assignment\n"
   ]
  },
  {
   "cell_type": "markdown",
   "metadata": {},
   "source": [
    "## Part 1\n",
    "inputValues() is function to accept the values to put in each wallet.\n",
    "The result is a list of wallet values."
   ]
  },
  {
   "cell_type": "code",
   "execution_count": 1,
   "metadata": {},
   "outputs": [],
   "source": [
    "def inputValues():\n",
    "    walletList = []\n",
    "    for i in range(5):\n",
    "        value = float(input('Enter the amount of money: '))\n",
    "        walletList.append(value)\n",
    "        \n",
    "    return walletList\n",
    "        "
   ]
  },
  {
   "cell_type": "markdown",
   "metadata": {},
   "source": [
    "## Part 2\n",
    "printSummary(walletList) is a function to find the:\n",
    "- maximum\n",
    "- minimum\n",
    "- sum of values\n",
    "- equavalent number of dimes\n",
    "in the list of wallets. \n",
    "\n",
    "It accepts a list of wallets as input."
   ]
  },
  {
   "cell_type": "code",
   "execution_count": 2,
   "metadata": {},
   "outputs": [],
   "source": [
    "        \n",
    "def printSummary(walletList):\n",
    "    maxValue = max(walletList)\n",
    "    minValue = min(walletList)\n",
    "    sumValues = sum(walletList)\n",
    "    totalDimes = sumValues*10\n",
    "    print(\"The fattest wallet has $\"+str(maxValue)+\" in it.\")\n",
    "    print(\"The skinniest wallet has $\"+str(minValue)+\" in it.\")\n",
    "    print(\"All together, these wallets have $\"+str(sumValues)+\" in them.\")\n",
    "    print(\"All together, the total value of these wallets is worth $\"+ str(totalDimes) +\" dimes\")\n"
   ]
  },
  {
   "cell_type": "markdown",
   "metadata": {},
   "source": [
    "## Part 3\n",
    "The code that will run the functions defined above. \n",
    "The user should input the values for each of the five wallets."
   ]
  },
  {
   "cell_type": "code",
   "execution_count": 3,
   "metadata": {},
   "outputs": [
    {
     "name": "stdout",
     "output_type": "stream",
     "text": [
      "Enter the amount of money: 10\n",
      "Enter the amount of money: 15\n",
      "Enter the amount of money: 20\n",
      "Enter the amount of money: 25\n",
      "Enter the amount of money: 30\n",
      "The fattest wallet has $30.0 in it.\n",
      "The skinniest wallet has $10.0 in it.\n",
      "All together, these wallets have $100.0 in them.\n",
      "All together, the total value of these wallets is worth $1000.0 dimes\n"
     ]
    }
   ],
   "source": [
    "walletList = inputValues()\n",
    "printSummary(walletList)"
   ]
  }
 ],
 "metadata": {
  "kernelspec": {
   "display_name": "Python 3",
   "language": "python",
   "name": "python3"
  },
  "language_info": {
   "codemirror_mode": {
    "name": "ipython",
    "version": 3
   },
   "file_extension": ".py",
   "mimetype": "text/x-python",
   "name": "python",
   "nbconvert_exporter": "python",
   "pygments_lexer": "ipython3",
   "version": "3.7.3"
  }
 },
 "nbformat": 4,
 "nbformat_minor": 2
}
