{
 "cells": [
  {
   "cell_type": "code",
   "execution_count": null,
   "metadata": {},
   "outputs": [],
   "source": [
    "# create movie class"
   ]
  },
  {
   "cell_type": "code",
   "execution_count": 163,
   "metadata": {},
   "outputs": [],
   "source": [
    "class Movie:\n",
    "    def __init__(self):\n",
    "        self.title = \"\"\n",
    "        self.genres = list()\n",
    "        self.year = 0\n",
    "        self.review = []\n",
    "        self.actors = list()\n",
    "        self.watch_count = 0\n",
    "        self.borrowed = False\n",
    "        self.borrower_name = \"\"\n",
    "      \n",
    "    def set_title(self, new_title):\n",
    "        self.title = new_title\n",
    "        \n",
    "    def set_genres(self, new_genres):\n",
    "        self.genres = new_genres\n",
    "        \n",
    "    def set_year(self, new_year):\n",
    "        self.year = new_year\n",
    "        \n",
    "    def set_actors(self, actors):\n",
    "        self.actors = actors\n",
    "        \n",
    "    def leave_review(self, new_review):\n",
    "        self.review.append(new_review)\n",
    "        \n",
    "    def borrow(self, borrower_name):\n",
    "        if(self.borrowed == False):      \n",
    "            self.borrowed = True\n",
    "            self.borrower = borrower_name\n",
    "        else:\n",
    "            print(\"Cannot borrow because the movie is already checked out\")\n",
    "            \n",
    "    def watch_movie(self):\n",
    "        self.watch_count += 1\n",
    "            \n",
    "    def return_movie(self):\n",
    "        if(self.borrowed == True):      \n",
    "            self.borrowed = False\n",
    "            self.borrower = \"\"\n",
    "        else:\n",
    "            print(\"Cannot return because the movie is not checked out\")\n",
    "            \n",
    "    def list_details(self):\n",
    "        print(\"Movie: \" + self.title + \"     Year: \" + str(self.year))\n",
    "        print(\"Genre: \", end = '')\n",
    "        for genre in self.genres:\n",
    "            if(genre != self.genres[-1]):\n",
    "                print(genre, end = \", \")\n",
    "            else:\n",
    "                print(genre)\n",
    "            \n",
    "        print(\"List of Actors: \")\n",
    "        for actor in self.actors:\n",
    "            print(\"   \" + actor.name)\n",
    " \n",
    "            \n",
    "    "
   ]
  },
  {
   "cell_type": "code",
   "execution_count": 164,
   "metadata": {},
   "outputs": [],
   "source": [
    "# instantiate a movie object, give it values, and check some of values"
   ]
  },
  {
   "cell_type": "code",
   "execution_count": 174,
   "metadata": {},
   "outputs": [
    {
     "name": "stdout",
     "output_type": "stream",
     "text": [
      "\n",
      "Checking that the name of the borrower was stored\n",
      "Name: Laura\n",
      "\n",
      "Checking that the reviews were stored\n",
      "Reviews: \n",
      "Great! One of my favorite movies, and the soundtrack is phenomenal\n",
      "A second review\n",
      "\n",
      "Checking that the name of the borrower was cleared\n",
      "Name: \n",
      "\n",
      "Checking that the count of watches was increased to 1\n",
      "Watch Count: 1\n"
     ]
    }
   ],
   "source": [
    "aMovie = Movie()\n",
    "aMovie.set_title(\"The Wind Rises\")\n",
    "aMovie.set_year(2014)\n",
    "aMovie.set_genres([\"animation\", \"drama\", \"historical fiction\", \"war\", \"romance\"])\n",
    "aMovie.borrow(borrower_name = \"Laura\")\n",
    "print(\"\\nChecking that the name of the borrower was stored\")\n",
    "print(\"Name: \" + aMovie.borrower)\n",
    "aMovie.watch_movie()\n",
    "aMovie.return_movie()\n",
    "aMovie.leave_review(\"Great! One of my favorite movies, and the soundtrack is phenomenal\")\n",
    "aMovie.leave_review(\"A second review\")\n",
    "print(\"\\nChecking that the reviews were stored\")\n",
    "print(\"Reviews: \")\n",
    "for review in aMovie.review:\n",
    "     print(review)\n",
    "print(\"\\nChecking that the name of the borrower was cleared\")\n",
    "print(\"Name: \" + aMovie.borrower)\n",
    "print(\"\\nChecking that the count of watches was increased to 1\")\n",
    "print(\"Watch Count: \" + str(aMovie.watch_count))"
   ]
  },
  {
   "cell_type": "code",
   "execution_count": 175,
   "metadata": {},
   "outputs": [],
   "source": [
    "# creating a class for actors"
   ]
  },
  {
   "cell_type": "code",
   "execution_count": 176,
   "metadata": {},
   "outputs": [],
   "source": [
    "class Actor:\n",
    "    def __init__(self):\n",
    "        self.name = \"\"\n",
    "        self.date_of_birth = \"\"\n",
    "        self.nationality = \"\"\n",
    "\n",
    "    def __init__(self, name, date_of_birth, nationality):\n",
    "        self.name = name\n",
    "        self.date_of_birth = date_of_birth\n",
    "        self.nationality = nationality"
   ]
  },
  {
   "cell_type": "code",
   "execution_count": 177,
   "metadata": {},
   "outputs": [],
   "source": [
    "#instantiating actors and adding them to the actors list of the aMovie object"
   ]
  },
  {
   "cell_type": "code",
   "execution_count": 178,
   "metadata": {},
   "outputs": [],
   "source": [
    "actor1 = Actor(\"Hideaki Anno\", \"May 22, 1960\", \"Japanese\")\n",
    "actor2 = Actor(\"Miori Takimoto\", \"October 16, 1991\", \"Japanese\")\n",
    "actor3 = Actor(\"Hidetoshi Nishijima\", \"March 29, 1971\", \"Japanese\")\n",
    "aMovie.set_actors([actor1, actor2, actor3])\n"
   ]
  },
  {
   "cell_type": "code",
   "execution_count": 179,
   "metadata": {},
   "outputs": [],
   "source": [
    "# list the details of the movie"
   ]
  },
  {
   "cell_type": "code",
   "execution_count": 180,
   "metadata": {},
   "outputs": [
    {
     "name": "stdout",
     "output_type": "stream",
     "text": [
      "Movie: The Wind Rises     Year: 2014\n",
      "Genre: animation, drama, historical fiction, war, romance\n",
      "List of Actors: \n",
      "   Hideaki Anno\n",
      "   Miori Takimoto\n",
      "   Hidetoshi Nishijima\n"
     ]
    }
   ],
   "source": [
    "aMovie.list_details()"
   ]
  },
  {
   "cell_type": "code",
   "execution_count": null,
   "metadata": {},
   "outputs": [],
   "source": []
  }
 ],
 "metadata": {
  "kernelspec": {
   "display_name": "Python 3",
   "language": "python",
   "name": "python3"
  },
  "language_info": {
   "codemirror_mode": {
    "name": "ipython",
    "version": 3
   },
   "file_extension": ".py",
   "mimetype": "text/x-python",
   "name": "python",
   "nbconvert_exporter": "python",
   "pygments_lexer": "ipython3",
   "version": "3.7.3"
  }
 },
 "nbformat": 4,
 "nbformat_minor": 2
}
