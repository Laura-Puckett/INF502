{
 "cells": [
  {
   "cell_type": "markdown",
   "metadata": {},
   "source": [
    "# Greatest Common Factor "
   ]
  },
  {
   "cell_type": "code",
   "execution_count": 31,
   "metadata": {},
   "outputs": [],
   "source": [
    "def GDF(a, b):\n",
    "    divisor = min(a, b)\n",
    "    rem = max(a,b) % divisor\n",
    "    \n",
    "    if(rem == 0):\n",
    "        return divisor\n",
    "    else:\n",
    "        return GDF(divisor, rem)\n",
    "    "
   ]
  },
  {
   "cell_type": "markdown",
   "metadata": {},
   "source": [
    "This code is a \"divide and conquer\" algorithm that calculates the greatest common factor between two positive integers by utilizing recursion.\n",
    "\n",
    "If the remainder of the division between the larger and smaller integer is 0, then the common factor is the smaller integer (divisor). \n",
    "\n",
    "If this is not the case, then the problem needs to be divided up into smaller problems. \n",
    "\n",
    "The divisor of the previous problem is divided by the remainder of the previous problem until the remainder is 0. When the remainder is 0, then this is the simple problem, and greatest common factor is simply the last divisor value."
   ]
  },
  {
   "cell_type": "markdown",
   "metadata": {},
   "source": [
    "# Some test cases:"
   ]
  },
  {
   "cell_type": "code",
   "execution_count": 32,
   "metadata": {},
   "outputs": [
    {
     "name": "stdout",
     "output_type": "stream",
     "text": [
      "6\n",
      "1\n",
      "5\n",
      "12\n",
      "47\n"
     ]
    }
   ],
   "source": [
    "print(GDF(30, 48))\n",
    "print(GDF(2,1))\n",
    "print(GDF(25, 30))\n",
    "print(GDF((2*47*5), (3*47*7)))"
   ]
  },
  {
   "cell_type": "code",
   "execution_count": null,
   "metadata": {},
   "outputs": [],
   "source": []
  }
 ],
 "metadata": {
  "kernelspec": {
   "display_name": "Python 3",
   "language": "python",
   "name": "python3"
  },
  "language_info": {
   "codemirror_mode": {
    "name": "ipython",
    "version": 3
   },
   "file_extension": ".py",
   "mimetype": "text/x-python",
   "name": "python",
   "nbconvert_exporter": "python",
   "pygments_lexer": "ipython3",
   "version": "3.7.3"
  }
 },
 "nbformat": 4,
 "nbformat_minor": 2
}
